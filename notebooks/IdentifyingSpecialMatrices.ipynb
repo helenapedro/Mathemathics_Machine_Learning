{
 "cells": [
  {
   "cell_type": "markdown",
   "metadata": {},
   "source": [
    "# Identifying special matrices\n",
    "\n",
    "```python\n",
    "A[0, 0]  A[0, 1]  A[0, 2]  A[0, 3]\n",
    "A[1, 0]  A[1, 1]  A[1, 2]  A[1, 3]\n",
    "A[2, 0]  A[2, 1]  A[2, 2]  A[2, 3]\n",
    "A[3, 0]  A[3, 1]  A[3, 2]  A[3, 3]\n",
    "```"
   ]
  },
  {
   "cell_type": "markdown",
   "metadata": {},
   "source": [
    "\n",
    "#### Objective\n",
    "* Write a function that will test if a 4×4 matrix is singular,\n",
    "     * to determine if an inverse exists, before calculating it.\n",
    "     * Use the method of converting a matrix to echelon form,\n",
    "     * test if the method fails by leaving zeros that can’t be removed on the leading diagonal.    "
   ]
  },
  {
   "cell_type": "code",
   "execution_count": 1,
   "metadata": {},
   "outputs": [],
   "source": [
    "import numpy as np"
   ]
  },
  {
   "cell_type": "code",
   "execution_count": 12,
   "metadata": {
    "collapsed": true
   },
   "outputs": [],
   "source": [
    "def isSingular(A):\n",
    "    B = np.array(A, dtype=np.float_) \n",
    "    try:\n",
    "        fixRowZero(B)\n",
    "        fixRowOne(B)\n",
    "        fixRowTwo(B)\n",
    "        fixRowThree(B)\n",
    "    except MatrixIsSingular:\n",
    "        return True\n",
    "    return False\n",
    "\n",
    "\n",
    "# defining error flag. For when things go wrong if the matrix is singular.\n",
    "class MatrixIsSingular(Exception): pass\n",
    "\n",
    "\n",
    "def fixRowZero(A):\n",
    "    if A[0, 0] == 0:\n",
    "        A[0] = A[0] + A[1]\n",
    "    if A[0, 0] == 0:\n",
    "        A[0] = A[0] + A[2]\n",
    "    if A[0, 0] == 0:\n",
    "        A[0] = A[0] + A[3]\n",
    "    if A[0, 0] == 0:\n",
    "        raise MatrixIsSingular()\n",
    "    A[0] = A[0] / A[0, 0]\n",
    "    return A\n",
    "\n",
    "\n",
    "def fixRowOne(A):\n",
    "    A[1] = A[1] - A[1, 0] * A[0]\n",
    "    if A[1, 1] == 0:\n",
    "        A[1] = A[1] + A[2]\n",
    "        A[1] = A[1] - A[1, 0] * A[0]\n",
    "    if A[1, 1] == 0:\n",
    "        A[1] = A[1] + A[3]\n",
    "        A[1] = A[1] - A[1, 0] * A[0]\n",
    "    if A[1, 1] == 0:\n",
    "        raise MatrixIsSingular()\n",
    "    A[1] = A[1] / A[1, 1]\n",
    "    return A\n",
    "\n",
    "\n",
    "def fixRowTwo(A):\n",
    "    A[2] = A[2] - A[2, 0] * A[0]\n",
    "    A[2] = A[2] - A[2, 1] * A[1]\n",
    "    # testing that the diagonal element is not zero.\n",
    "    if A[2, 2] == 0:\n",
    "        A[2] = A[2] + A[3]\n",
    "        A[2] = A[2] - A[2, 0] * A[0]\n",
    "        A[2] = A[2] - A[2, 1] * A[1]\n",
    "    if A[2, 2] == 0:\n",
    "        raise MatrixIsSingular()\n",
    "    # setting the diagonal element to one\n",
    "    A[2] = A[2] / A[2, 2]\n",
    "    return A\n",
    "\n",
    "\n",
    "def fixRowThree(A):\n",
    "    # setting the sub-diagonal elements of row three to zero.\n",
    "    A[3] = A[3] - A[3, 0] * A[0]\n",
    "    A[3] = A[3] - A[3, 1] * A[1]\n",
    "    A[3] = A[3] - A[3, 2] * A[2]\n",
    "    # testing if the diagonal element is zero.\n",
    "    if A[3, 3] == 0:\n",
    "        raise MatrixIsSingular()\n",
    "    # Transforming the row to set the diagonal element to one.\n",
    "    A[3] = A[3] / A[3, 3]\n",
    "    return A"
   ]
  },
  {
   "cell_type": "markdown",
   "metadata": {},
   "source": [
    "<code> Testing code </code>"
   ]
  },
  {
   "cell_type": "code",
   "execution_count": 13,
   "metadata": {},
   "outputs": [
    {
     "data": {
      "text/plain": [
       "True"
      ]
     },
     "execution_count": 13,
     "metadata": {},
     "output_type": "execute_result"
    }
   ],
   "source": [
    "A = np.array([\n",
    "        [2, 0, 0, 0],\n",
    "        [0, 3, 0, 0],\n",
    "        [0, 0, 4, 4],\n",
    "        [0, 0, 5, 5]\n",
    "    ], dtype=np.float_)\n",
    "isSingular(A)"
   ]
  },
  {
   "cell_type": "code",
   "execution_count": 14,
   "metadata": {},
   "outputs": [
    {
     "data": {
      "text/plain": [
       "array([[  1. ,   7.5,  -2.5,   3.5],\n",
       "       [  2. ,   8. ,   0. ,   4. ],\n",
       "       [  3. ,  12. ,   0. ,   5. ],\n",
       "       [  1. ,   3. ,   1. ,   3. ]])"
      ]
     },
     "execution_count": 14,
     "metadata": {},
     "output_type": "execute_result"
    }
   ],
   "source": [
    "A = np.array([\n",
    "        [0, 7, -5, 3],\n",
    "        [2, 8, 0, 4],\n",
    "        [3, 12, 0, 5],\n",
    "        [1, 3, 1, 3]\n",
    "    ], dtype=np.float_)\n",
    "fixRowZero(A)"
   ]
  },
  {
   "cell_type": "code",
   "execution_count": 15,
   "metadata": {},
   "outputs": [
    {
     "data": {
      "text/plain": [
       "array([[  1.        ,   7.5       ,  -2.5       ,   3.5       ],\n",
       "       [ -0.        ,   1.        ,  -0.71428571,   0.42857143],\n",
       "       [  3.        ,  12.        ,   0.        ,   5.        ],\n",
       "       [  1.        ,   3.        ,   1.        ,   3.        ]])"
      ]
     },
     "execution_count": 15,
     "metadata": {},
     "output_type": "execute_result"
    }
   ],
   "source": [
    "fixRowOne(A)"
   ]
  },
  {
   "cell_type": "code",
   "execution_count": 16,
   "metadata": {},
   "outputs": [
    {
     "data": {
      "text/plain": [
       "array([[ 1.        ,  7.5       , -2.5       ,  3.5       ],\n",
       "       [-0.        ,  1.        , -0.71428571,  0.42857143],\n",
       "       [ 0.        ,  0.        ,  1.        ,  1.5       ],\n",
       "       [ 1.        ,  3.        ,  1.        ,  3.        ]])"
      ]
     },
     "execution_count": 16,
     "metadata": {},
     "output_type": "execute_result"
    }
   ],
   "source": [
    "fixRowTwo(A)"
   ]
  },
  {
   "cell_type": "code",
   "execution_count": 17,
   "metadata": {},
   "outputs": [
    {
     "data": {
      "text/plain": [
       "array([[ 1.        ,  7.5       , -2.5       ,  3.5       ],\n",
       "       [-0.        ,  1.        , -0.71428571,  0.42857143],\n",
       "       [ 0.        ,  0.        ,  1.        ,  1.5       ],\n",
       "       [ 0.        ,  0.        ,  0.        ,  1.        ]])"
      ]
     },
     "execution_count": 17,
     "metadata": {},
     "output_type": "execute_result"
    }
   ],
   "source": [
    "fixRowThree(A)"
   ]
  }
 ],
 "metadata": {
  "coursera": {
   "course_slug": "linear-algebra-machine-learning",
   "graded_item_id": "vhy4M",
   "launcher_item_id": "3vbW4"
  },
  "kernelspec": {
   "display_name": "Python 3",
   "language": "python",
   "name": "python3"
  },
  "language_info": {
   "codemirror_mode": {
    "name": "ipython",
    "version": 3
   },
   "file_extension": ".py",
   "mimetype": "text/x-python",
   "name": "python",
   "nbconvert_exporter": "python",
   "pygments_lexer": "ipython3",
   "version": "3.11.7"
  }
 },
 "nbformat": 4,
 "nbformat_minor": 1
}

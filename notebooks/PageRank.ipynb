{
 "cells": [
  {
   "cell_type": "markdown",
   "metadata": {},
   "source": [
    "# PageRank\n",
    "![PageRank](../images/PageRanks-Example.svg.png)\n",
    "![PageRank](../images/PageRanks-Example.svg.png)"
   ]
  },
  {
   "cell_type": "markdown",
   "metadata": {
    "collapsed": true
   },
   "source": [
    "<code>Objective</code>"
   ]
  },
  {
   "cell_type": "markdown",
   "metadata": {},
   "source": [
    "* Build eigenvectors and eigenvalues by exploring the PageRank algorithm.\n",
    "     * look at a micro-internet with fewer than 10 websites and see what it does and what can go wrong.\n",
    "     * test my application of eigentheory to this problem by writing code and calculating the page rank of a large network representing a sub-section of the internet.\n",
    "* Calculate the PageRank for an arbitrarily large probability matrix."
   ]
  },
  {
   "cell_type": "markdown",
   "metadata": {},
   "source": [
    "## Part 1 - Worksheet"
   ]
  },
  {
   "cell_type": "code",
   "execution_count": 1,
   "metadata": {},
   "outputs": [
    {
     "name": "stdout",
     "output_type": "stream",
     "text": [
      "Populating the interactive namespace from numpy and matplotlib\n"
     ]
    }
   ],
   "source": [
    "# Before we begin, let's load the libraries.\n",
    "%pylab notebook\n",
    "import numpy as np\n",
    "import numpy.linalg as la\n",
    "from readonly.PageRankFunctions import *\n",
    "np.set_printoptions(suppress=True)"
   ]
  },
  {
   "cell_type": "markdown",
   "metadata": {},
   "source": [
    "### PageRank as a linear algebra problem\n",
    "\n",
    "💡 The design principle of PageRank is that important websites will be linked to by important websites.\n",
    "This somewhat recursive principle will form the basis of my thinking.\n",
    "\n",
    "\n",
    "A micro-internet, with just 6 websites (**A**vocado, **B**ullseye, **C**atBabel, **D**romeda, **e**Tings, and **F**aceSpace). Each website links to some of the others, and this forms a network as shown,\n",
    "\n",
    "![A Micro-Internet](../images/internet.png/ \"A Micro-Internet\")\n",
    "\n",
    "\n",
    "In this case scenario, I have 100 *Procrastinating Pat*s on my micro-internet, each viewing a single website at a time.\n",
    "* Each minute the Pats follow a link on their website to another site on the micro-internet.\n",
    "* After a while, the websites that are most linked to will have more Pats visiting them, and \n",
    "* in the long run, each minute for every Pat that leaves a website, another will enter keeping the total numbers of Pats on each website constant.\n",
    "The PageRank is simply the ranking of websites by how many Pats they have on them at the end of this process.\n",
    "\n",
    "I represent the number of Pats on each website with the vector,\n",
    "$$\\mathbf{r} = \\begin{bmatrix} r_A \\\\ r_B \\\\ r_C \\\\ r_D \\\\ r_E \\\\ r_F \\end{bmatrix}$$\n",
    "And say that the number of Pats on each website in minute $i+1$ is related to those at minute $i$ by the matrix transformation\n",
    "\n",
    "$$ \\mathbf{r}^{(i+1)} = L \\,\\mathbf{r}^{(i)}$$\n",
    "with the matrix $L$ taking the form,\n",
    "$$ L = \\begin{bmatrix}\n",
    "L_{A→A} & L_{B→A} & L_{C→A} & L_{D→A} & L_{E→A} & L_{F→A} \\\\\n",
    "L_{A→B} & L_{B→B} & L_{C→B} & L_{D→B} & L_{E→B} & L_{F→B} \\\\\n",
    "L_{A→C} & L_{B→C} & L_{C→C} & L_{D→C} & L_{E→C} & L_{F→C} \\\\\n",
    "L_{A→D} & L_{B→D} & L_{C→D} & L_{D→D} & L_{E→D} & L_{F→D} \\\\\n",
    "L_{A→E} & L_{B→E} & L_{C→E} & L_{D→E} & L_{E→E} & L_{F→E} \\\\\n",
    "L_{A→F} & L_{B→F} & L_{C→F} & L_{D→F} & L_{E→F} & L_{F→F} \\\\\n",
    "\\end{bmatrix}\n",
    "$$\n",
    "where the columns represent the probability of leaving a website for any other website, and sum to one.\n",
    "The rows determine how likely I am to enter a website from any other, though these need not add to one.\n",
    "The long time behaviour of this system is when $ \\mathbf{r}^{(i+1)} = \\mathbf{r}^{(i)}$, so I'll drop the superscripts here, and that allows me to write,\n",
    "$$ L \\,\\mathbf{r} = \\mathbf{r}$$\n",
    "\n",
    "which is an eigenvalue equation for the matrix $L$, with eigenvalue 1 (this is guaranteed by the probabalistic structure of the matrix $L$)."
   ]
  },
  {
   "cell_type": "code",
   "execution_count": 45,
   "metadata": {
    "collapsed": true
   },
   "outputs": [],
   "source": [
    "# probability of clicking a link to each website when leaving Website F (FaceSpace).\n",
    "L = np.array([[0,   1/2, 1/3, 0, 0,   0 ],\n",
    "              [1/3, 0,   0,   0, 1/2, 0 ],\n",
    "              [1/3, 1/2, 0,   1, 0,   1/2 ],\n",
    "              [1/3, 0,   1/3, 0, 1/2, 1/2 ],\n",
    "              [0,   0,   0,   0, 0,   0 ],\n",
    "              [0,   0,   1/3, 0, 0,   0 ]])"
   ]
  },
  {
   "cell_type": "markdown",
   "metadata": {},
   "source": [
    "we only care about the principal eigenvector (the one with the largest eigenvalue, which will be 1 in this case), we can use the *power iteration method* which will scale better, and is faster for large systems."
   ]
  },
  {
   "cell_type": "code",
   "execution_count": 46,
   "metadata": {},
   "outputs": [
    {
     "data": {
      "text/plain": [
       "array([ 16.        ,   5.33333333,  40.        ,  25.33333333,\n",
       "         0.        ,  13.33333333])"
      ]
     },
     "execution_count": 46,
     "metadata": {},
     "output_type": "execute_result"
    }
   ],
   "source": [
    "# peeking at the PageRank for this micro-internet.\n",
    "eVals, eVecs = la.eig(L) # Gets the eigenvalues and vectors\n",
    "order = np.absolute(eVals).argsort()[::-1] # Orders them by their eigenvalues\n",
    "eVals = eVals[order]\n",
    "eVecs = eVecs[:,order]\n",
    "\n",
    "r = eVecs[:, 0] # Sets r to be the principal eigenvector\n",
    "100 * np.real(r / np.sum(r)) # Make this eigenvector sum to one, then multiply by 100 Procrastinating Pats"
   ]
  },
  {
   "cell_type": "markdown",
   "metadata": {},
   "source": [
    "👆🏽💡\n",
    "* From the list we see the number of Procrastinating Pats that we expect to find on each website after long times.\n",
    "* In order of *popularity* (based on this metric), the PageRank of this micro-internet is:"
   ]
  },
  {
   "cell_type": "markdown",
   "metadata": {},
   "source": [
    "**C**atBabel, **D**romeda, **A**vocado, **F**aceSpace, **B**ullseye, **e**Tings\n"
   ]
  },
  {
   "cell_type": "markdown",
   "metadata": {},
   "source": [
    "#### Using the Power-Iteration method - This method will be much better at dealing with large systems."
   ]
  },
  {
   "cell_type": "code",
   "execution_count": 47,
   "metadata": {},
   "outputs": [
    {
     "data": {
      "text/plain": [
       "array([ 16.66666667,  16.66666667,  16.66666667,  16.66666667,\n",
       "        16.66666667,  16.66666667])"
      ]
     },
     "execution_count": 47,
     "metadata": {},
     "output_type": "execute_result"
    }
   ],
   "source": [
    "r = 100 * np.ones(6) / 6 # Seting up this vector (6 entries of 1/6 × 100 each)\n",
    "r "
   ]
  },
  {
   "cell_type": "code",
   "execution_count": 48,
   "metadata": {},
   "outputs": [
    {
     "data": {
      "text/plain": [
       "array([ 13.88888889,  13.88888889,  38.88888889,  27.77777778,\n",
       "         0.        ,   5.55555556])"
      ]
     },
     "execution_count": 48,
     "metadata": {},
     "output_type": "execute_result"
    }
   ],
   "source": [
    "r = L @ r # Applying matrix L to r\n",
    "r "
   ]
  },
  {
   "cell_type": "markdown",
   "metadata": {},
   "source": [
    "Automation applying this matrix multiple times as follows,"
   ]
  },
  {
   "cell_type": "code",
   "execution_count": 49,
   "metadata": {},
   "outputs": [
    {
     "data": {
      "text/plain": [
       "array([ 16.        ,   5.33333333,  40.        ,  25.33333333,\n",
       "         0.        ,  13.33333333])"
      ]
     },
     "execution_count": 49,
     "metadata": {},
     "output_type": "execute_result"
    }
   ],
   "source": [
    "r = 100 * np.ones(6) / 6 # Seting up this vector (6 entries of 1/6 × 100 each)\n",
    "for i in np.arange(100) : # Repeating 100 times\n",
    "    r = L @ r\n",
    "r"
   ]
  },
  {
   "cell_type": "markdown",
   "metadata": {},
   "source": [
    "running until  get to the required tolerance."
   ]
  },
  {
   "cell_type": "code",
   "execution_count": 50,
   "metadata": {},
   "outputs": [
    {
     "name": "stdout",
     "output_type": "stream",
     "text": [
      "18 iterations to convergence.\n"
     ]
    },
    {
     "data": {
      "text/plain": [
       "array([ 16.00149917,   5.33252025,  39.99916911,  25.3324738 ,\n",
       "         0.        ,  13.33433767])"
      ]
     },
     "execution_count": 50,
     "metadata": {},
     "output_type": "execute_result"
    }
   ],
   "source": [
    "r = 100 * np.ones(6) / 6 # Sets up this vector (6 entries of 1/6 × 100 each)\n",
    "lastR = r\n",
    "r = L @ r\n",
    "i = 0\n",
    "while la.norm(lastR - r) > 0.01 :\n",
    "    lastR = r\n",
    "    r = L @ r\n",
    "    i += 1\n",
    "print(str(i) + \" iterations to convergence.\")\n",
    "r"
   ]
  },
  {
   "cell_type": "markdown",
   "metadata": {},
   "source": [
    "The PageRank order is established fairly quickly, and the vector converges on the value we calculated earlier after a few tens of repeats."
   ]
  },
  {
   "cell_type": "markdown",
   "metadata": {},
   "source": [
    "### Damping Parameter\n",
    "The system I just studied above converged fairly quickly to the correct answer.\n",
    "I will now consider an extension to the micro-internet where things start to go wrong.\n",
    "\n",
    "Say a new website is added to the micro-internet: *Geoff's* Website.\n",
    "This website is linked to by *FaceSpace* and only links to itself.\n",
    "![An Expanded Micro-Internet](../images/internet2.png \"An Expanded Micro-Internet\")\n",
    "\n",
    "Intuitively, only *FaceSpace*, which is in the bottom half of the page rank, links to this website amongst the two others it links to, so I expect *Geoff's* site to have a correspondingly low PageRank score."
   ]
  },
  {
   "cell_type": "code",
   "execution_count": 51,
   "metadata": {
    "collapsed": true
   },
   "outputs": [],
   "source": [
    "# Building the new L matrix for the expanded micro-internet, \n",
    "# Using Power-Iteration on the Procrastinating Pat vector.\n",
    "L2 = np.array([[0,   1/2, 1/3, 0, 0,   0, 0 ],\n",
    "               [1/3, 0,   0,   0, 1/2, 0, 0 ],\n",
    "               [1/3, 1/2, 0,   1, 0,   0, 0 ],\n",
    "               [1/3, 0,   1/3, 0, 1/2, 0, 0 ],\n",
    "               [0,   0,   0,   0, 0,   0, 0 ],\n",
    "               [0,   0,   1/3, 0, 0,   1, 0 ],\n",
    "               [0,   0,   0,   0, 0,   0, 1 ]])"
   ]
  },
  {
   "cell_type": "code",
   "execution_count": 52,
   "metadata": {},
   "outputs": [
    {
     "name": "stdout",
     "output_type": "stream",
     "text": [
      "46 iterations to convergence.\n"
     ]
    },
    {
     "data": {
      "text/plain": [
       "array([  0.01077429,   0.00420324,   0.02131321,   0.01251789,\n",
       "         0.        ,  85.66547709,  14.28571429])"
      ]
     },
     "execution_count": 52,
     "metadata": {},
     "output_type": "execute_result"
    }
   ],
   "source": [
    "r = 100 * np.ones(7) / 7 # Setting up this vector (6 entries of 1/6 × 100 each)\n",
    "lastR = r\n",
    "r = L2 @ r\n",
    "i = 0\n",
    "while la.norm(lastR - r) > 0.01 :\n",
    "    lastR = r\n",
    "    r = L2 @ r\n",
    "    i += 1\n",
    "print(str(i) + \" iterations to convergence.\")\n",
    "r"
   ]
  },
  {
   "cell_type": "markdown",
   "metadata": {},
   "source": [
    "👆🏽💡 That's no good! *Geoff* seems to be taking all the traffic on the micro-internet, and somehow coming at the top of the PageRank.\n",
    "This behaviour can be understood, because once a Pat get's to *Geoff's* Website, they can't leave, as all links head back to Geoff."
   ]
  },
  {
   "cell_type": "markdown",
   "metadata": {},
   "source": [
    "* To combat this, I will add a small probability that the Procrastinating Pats don't follow any link on a webpage, but instead visit a website on the micro-internet at random.\n",
    "\n",
    "* I'll say the probability of them following a link is $d$ and the probability of choosing a random website is therefore $1-d$."
   ]
  },
  {
   "cell_type": "markdown",
   "metadata": {},
   "source": []
  },
  {
   "cell_type": "markdown",
   "metadata": {},
   "source": [
    "\n",
    "* Matrix to work out where the Pat's visit each minute.\n",
    "\n",
    "$$ M = d \\, L + \\frac{1-d}{n} \\, J $$\n",
    "where $J$ is an $n\\times n$ matrix where every element is one.\n",
    "\n",
    "* If $d$ is one, we have the case we had previously, \n",
    "* whereas if $d$ is zero, we will always visit a random webpage and therefore all webpages will be equally likely and equally ranked.\n",
    "For this extension to work best, $1-d$ should be somewhat small "
   ]
  },
  {
   "cell_type": "code",
   "execution_count": 53,
   "metadata": {
    "collapsed": true
   },
   "outputs": [],
   "source": [
    "d = 0.5 \n",
    "M = d * L2 + (1-d)/7 * np.ones([7, 7]) # np.ones() is the J matrix, with ones for each entry."
   ]
  },
  {
   "cell_type": "code",
   "execution_count": 54,
   "metadata": {},
   "outputs": [
    {
     "name": "stdout",
     "output_type": "stream",
     "text": [
      "8 iterations to convergence.\n"
     ]
    },
    {
     "data": {
      "text/plain": [
       "array([ 13.13619674,  11.11812027,  19.27885503,  14.33173875,\n",
       "         7.14285714,  20.70651779,  14.28571429])"
      ]
     },
     "execution_count": 54,
     "metadata": {},
     "output_type": "execute_result"
    }
   ],
   "source": [
    "r = 100 * np.ones(7) / 7 # Sets up this vector (6 entries of 1/6 × 100 each)\n",
    "lastR = r\n",
    "r = M @ r\n",
    "i = 0\n",
    "while la.norm(lastR - r) > 0.01 :\n",
    "    lastR = r\n",
    "    r = M @ r\n",
    "    i += 1\n",
    "print(str(i) + \" iterations to convergence.\")\n",
    "r"
   ]
  },
  {
   "cell_type": "markdown",
   "metadata": {},
   "source": [
    "👆🏽💡 This is certainly better, the PageRank gives sensible numbers for the Procrastinating Pats that end up on each webpage.\n",
    "* This method still predicts Geoff has a high ranking webpage however.\n",
    "     * This could be seen as a consequence of using a small network. "
   ]
  },
  {
   "cell_type": "code",
   "execution_count": 57,
   "metadata": {
    "collapsed": true
   },
   "outputs": [],
   "source": [
    "# function to provide the PageRank for an arbitrarily sized internet.\n",
    "def pageRank(linkMatrix, d) :\n",
    "    n = linkMatrix.shape[0]\n",
    "    M = d * linkMatrix + (1-d)/n * np.ones([n, n])\n",
    "    r = 100 * np.ones(n) / n # Sets up this vector (6 entries of 1/6 × 100 each)\n",
    "    last = r\n",
    "    r = M @ r\n",
    "    while la.norm(last - r) > 0.01 :\n",
    "        last = r\n",
    "        r = M @ r\n",
    "    return r\n"
   ]
  },
  {
   "cell_type": "markdown",
   "metadata": {},
   "source": [
    "<code> Testing  code </code>"
   ]
  },
  {
   "cell_type": "code",
   "execution_count": 58,
   "metadata": {},
   "outputs": [
    {
     "data": {
      "text/plain": [
       "array([[ 0.2,  0.2,  0. ,  0. ,  0. ],\n",
       "       [ 0.2,  0.2,  0. ,  0. ,  0. ],\n",
       "       [ 0.2,  0.2,  1. ,  0. ,  1. ],\n",
       "       [ 0.2,  0.2,  0. ,  1. ,  0. ],\n",
       "       [ 0.2,  0.2,  0. ,  0. ,  0. ]])"
      ]
     },
     "execution_count": 58,
     "metadata": {},
     "output_type": "execute_result"
    }
   ],
   "source": [
    "# function to generate internets of different sizes.\n",
    "generate_internet(5)"
   ]
  },
  {
   "cell_type": "code",
   "execution_count": 59,
   "metadata": {
    "collapsed": true
   },
   "outputs": [],
   "source": [
    "# Testing  PageRank method against the built in \"eig\" method.\n",
    "L = generate_internet(100)"
   ]
  },
  {
   "cell_type": "code",
   "execution_count": 60,
   "metadata": {},
   "outputs": [
    {
     "data": {
      "text/plain": [
       "array([  0.00053572,   0.0003536 ,   0.0003536 ,   0.0003536 ,\n",
       "         0.0061807 ,   0.00079166,   0.00053572,   0.00047624,\n",
       "         0.00548013,   0.00047624,   0.00344066,   0.0003536 ,\n",
       "         0.0003536 ,   0.00225535,   0.00312437,   0.00420398,\n",
       "         0.00218721,   0.00278108,   0.00381154,   0.00170109,\n",
       "         0.0009468 ,   0.00140072,   0.00137978,   0.00208794,\n",
       "         0.0003536 ,   0.00630368,   0.00350216,   0.00253151,\n",
       "         0.00189229,   0.0003536 ,   0.00273879,   0.00642726,\n",
       "         0.0009387 ,   0.00296126,   0.00044466,   0.00047624,\n",
       "         0.00098202,   0.0017958 ,   0.00306999,   0.0068469 ,\n",
       "         0.00596314,   0.00541714,   0.00230353,   0.00576067,\n",
       "         0.00230855,   0.00307653,   0.00555144,   0.00299397,\n",
       "         0.00393591,   0.00917284,   0.00515033,   0.0009468 ,\n",
       "         0.00613249,   0.00227711,   0.0003536 ,   0.00101778,\n",
       "         0.00044466,   0.00334972,   0.00487762,   0.00113683,\n",
       "         0.00634293,   0.0054924 ,   0.00330237,   0.00332058,\n",
       "         0.00149375,   0.00293343,   0.0003536 ,   0.00297224,\n",
       "         0.00634293,   0.00486727,   0.00314597,   0.00152567,\n",
       "         0.00281521,   0.0035116 ,   0.01162886,   0.00568919,\n",
       "         0.00411333,   0.00493794,   0.01004156,   0.00333895,\n",
       "         0.00362047,   0.00047624,   0.00683398,  99.67767473,\n",
       "         0.00786871,   0.00375531,   0.00770889,   0.0012163 ,\n",
       "         0.0109128 ,   0.00147184,   0.00656999,   0.0007838 ,\n",
       "         0.00535205,   0.00167502,   0.00143621,   0.01047964,\n",
       "         0.00072625,   0.0021204 ,   0.00054062,   0.00125293])"
      ]
     },
     "execution_count": 60,
     "metadata": {},
     "output_type": "execute_result"
    }
   ],
   "source": [
    "pageRank(L, 1)\n"
   ]
  },
  {
   "cell_type": "code",
   "execution_count": 61,
   "metadata": {},
   "outputs": [
    {
     "data": {
      "text/plain": [
       "array([  0.00000007,   0.00000005,   0.00000005,   0.00000005,\n",
       "         0.00000066,   0.00000009,   0.00000007,   0.00000006,\n",
       "         0.00000059,   0.00000006,   0.00000041,   0.00000005,\n",
       "         0.00000005,   0.00000026,   0.00000036,   0.00000048,\n",
       "         0.00000025,   0.00000032,   0.00000043,   0.00000019,\n",
       "         0.00000011,   0.00000017,   0.00000017,   0.00000024,\n",
       "         0.00000005,   0.00000068,   0.00000037,   0.00000026,\n",
       "         0.00000021,   0.00000005,   0.00000031,   0.00000068,\n",
       "         0.00000011,   0.00000031,   0.00000006,   0.00000006,\n",
       "         0.00000013,   0.0000002 ,   0.00000035,   0.00000073,\n",
       "         0.00000064,   0.00000057,   0.00000026,   0.00000061,\n",
       "         0.00000025,   0.00000033,   0.00000058,   0.00000031,\n",
       "         0.00000042,   0.00000096,   0.00000054,   0.00000011,\n",
       "         0.00000064,   0.00000025,   0.00000005,   0.00000012,\n",
       "         0.00000006,   0.00000036,   0.00000053,   0.00000013,\n",
       "         0.00000064,   0.00000057,   0.00000035,   0.00000035,\n",
       "         0.00000016,   0.00000033,   0.00000005,   0.00000032,\n",
       "         0.00000064,   0.00000051,   0.00000032,   0.00000016,\n",
       "         0.00000029,   0.00000037,   0.00000119,   0.00000057,\n",
       "         0.00000044,   0.0000005 ,   0.00000103,   0.00000035,\n",
       "         0.00000037,   0.00000006,   0.00000071,  99.99996538,\n",
       "         0.00000079,   0.0000004 ,   0.00000079,   0.00000014,\n",
       "         0.00000114,   0.00000018,   0.00000069,   0.0000001 ,\n",
       "         0.00000058,   0.00000018,   0.00000017,   0.00000108,\n",
       "         0.00000009,   0.00000024,   0.00000007,   0.00000015])"
      ]
     },
     "execution_count": 61,
     "metadata": {},
     "output_type": "execute_result"
    }
   ],
   "source": [
    "eVals, eVecs = la.eig(L) # Getting the eigenvalues and vectors\n",
    "order = np.absolute(eVals).argsort()[::-1] # Ordering them by their eigenvalues\n",
    "eVals = eVals[order]\n",
    "eVecs = eVecs[:,order]\n",
    "\n",
    "r = eVecs[:, 0]\n",
    "100 * np.real(r / np.sum(r))"
   ]
  },
  {
   "cell_type": "code",
   "execution_count": 62,
   "metadata": {},
   "outputs": [
    {
     "name": "stdout",
     "output_type": "stream",
     "text": [
      "Populating the interactive namespace from numpy and matplotlib\n"
     ]
    },
    {
     "data": {
      "application/javascript": "/* Put everything inside the global mpl namespace */\nwindow.mpl = {};\n\n\nmpl.get_websocket_type = function() {\n    if (typeof(WebSocket) !== 'undefined') {\n        return WebSocket;\n    } else if (typeof(MozWebSocket) !== 'undefined') {\n        return MozWebSocket;\n    } else {\n        alert('Your browser does not have WebSocket support.' +\n              'Please try Chrome, Safari or Firefox ≥ 6. ' +\n              'Firefox 4 and 5 are also supported but you ' +\n              'have to enable WebSockets in about:config.');\n    };\n}\n\nmpl.figure = function(figure_id, websocket, ondownload, parent_element) {\n    this.id = figure_id;\n\n    this.ws = websocket;\n\n    this.supports_binary = (this.ws.binaryType != undefined);\n\n    if (!this.supports_binary) {\n        var warnings = document.getElementById(\"mpl-warnings\");\n        if (warnings) {\n            warnings.style.display = 'block';\n            warnings.textContent = (\n                \"This browser does not support binary websocket messages. \" +\n                    \"Performance may be slow.\");\n        }\n    }\n\n    this.imageObj = new Image();\n\n    this.context = undefined;\n    this.message = undefined;\n    this.canvas = undefined;\n    this.rubberband_canvas = undefined;\n    this.rubberband_context = undefined;\n    this.format_dropdown = undefined;\n\n    this.image_mode = 'full';\n\n    this.root = $('<div/>');\n    this._root_extra_style(this.root)\n    this.root.attr('style', 'display: inline-block');\n\n    $(parent_element).append(this.root);\n\n    this._init_header(this);\n    this._init_canvas(this);\n    this._init_toolbar(this);\n\n    var fig = this;\n\n    this.waiting = false;\n\n    this.ws.onopen =  function () {\n            fig.send_message(\"supports_binary\", {value: fig.supports_binary});\n            fig.send_message(\"send_image_mode\", {});\n            if (mpl.ratio != 1) {\n                fig.send_message(\"set_dpi_ratio\", {'dpi_ratio': mpl.ratio});\n            }\n            fig.send_message(\"refresh\", {});\n        }\n\n    this.imageObj.onload = function() {\n            if (fig.image_mode == 'full') {\n                // Full images could contain transparency (where diff images\n                // almost always do), so we need to clear the canvas so that\n                // there is no ghosting.\n                fig.context.clearRect(0, 0, fig.canvas.width, fig.canvas.height);\n            }\n            fig.context.drawImage(fig.imageObj, 0, 0);\n        };\n\n    this.imageObj.onunload = function() {\n        this.ws.close();\n    }\n\n    this.ws.onmessage = this._make_on_message_function(this);\n\n    this.ondownload = ondownload;\n}\n\nmpl.figure.prototype._init_header = function() {\n    var titlebar = $(\n        '<div class=\"ui-dialog-titlebar ui-widget-header ui-corner-all ' +\n        'ui-helper-clearfix\"/>');\n    var titletext = $(\n        '<div class=\"ui-dialog-title\" style=\"width: 100%; ' +\n        'text-align: center; padding: 3px;\"/>');\n    titlebar.append(titletext)\n    this.root.append(titlebar);\n    this.header = titletext[0];\n}\n\n\n\nmpl.figure.prototype._canvas_extra_style = function(canvas_div) {\n\n}\n\n\nmpl.figure.prototype._root_extra_style = function(canvas_div) {\n\n}\n\nmpl.figure.prototype._init_canvas = function() {\n    var fig = this;\n\n    var canvas_div = $('<div/>');\n\n    canvas_div.attr('style', 'position: relative; clear: both; outline: 0');\n\n    function canvas_keyboard_event(event) {\n        return fig.key_event(event, event['data']);\n    }\n\n    canvas_div.keydown('key_press', canvas_keyboard_event);\n    canvas_div.keyup('key_release', canvas_keyboard_event);\n    this.canvas_div = canvas_div\n    this._canvas_extra_style(canvas_div)\n    this.root.append(canvas_div);\n\n    var canvas = $('<canvas/>');\n    canvas.addClass('mpl-canvas');\n    canvas.attr('style', \"left: 0; top: 0; z-index: 0; outline: 0\")\n\n    this.canvas = canvas[0];\n    this.context = canvas[0].getContext(\"2d\");\n\n    var backingStore = this.context.backingStorePixelRatio ||\n\tthis.context.webkitBackingStorePixelRatio ||\n\tthis.context.mozBackingStorePixelRatio ||\n\tthis.context.msBackingStorePixelRatio ||\n\tthis.context.oBackingStorePixelRatio ||\n\tthis.context.backingStorePixelRatio || 1;\n\n    mpl.ratio = (window.devicePixelRatio || 1) / backingStore;\n\n    var rubberband = $('<canvas/>');\n    rubberband.attr('style', \"position: absolute; left: 0; top: 0; z-index: 1;\")\n\n    var pass_mouse_events = true;\n\n    canvas_div.resizable({\n        start: function(event, ui) {\n            pass_mouse_events = false;\n        },\n        resize: function(event, ui) {\n            fig.request_resize(ui.size.width, ui.size.height);\n        },\n        stop: function(event, ui) {\n            pass_mouse_events = true;\n            fig.request_resize(ui.size.width, ui.size.height);\n        },\n    });\n\n    function mouse_event_fn(event) {\n        if (pass_mouse_events)\n            return fig.mouse_event(event, event['data']);\n    }\n\n    rubberband.mousedown('button_press', mouse_event_fn);\n    rubberband.mouseup('button_release', mouse_event_fn);\n    // Throttle sequential mouse events to 1 every 20ms.\n    rubberband.mousemove('motion_notify', mouse_event_fn);\n\n    rubberband.mouseenter('figure_enter', mouse_event_fn);\n    rubberband.mouseleave('figure_leave', mouse_event_fn);\n\n    canvas_div.on(\"wheel\", function (event) {\n        event = event.originalEvent;\n        event['data'] = 'scroll'\n        if (event.deltaY < 0) {\n            event.step = 1;\n        } else {\n            event.step = -1;\n        }\n        mouse_event_fn(event);\n    });\n\n    canvas_div.append(canvas);\n    canvas_div.append(rubberband);\n\n    this.rubberband = rubberband;\n    this.rubberband_canvas = rubberband[0];\n    this.rubberband_context = rubberband[0].getContext(\"2d\");\n    this.rubberband_context.strokeStyle = \"#000000\";\n\n    this._resize_canvas = function(width, height) {\n        // Keep the size of the canvas, canvas container, and rubber band\n        // canvas in synch.\n        canvas_div.css('width', width)\n        canvas_div.css('height', height)\n\n        canvas.attr('width', width * mpl.ratio);\n        canvas.attr('height', height * mpl.ratio);\n        canvas.attr('style', 'width: ' + width + 'px; height: ' + height + 'px;');\n\n        rubberband.attr('width', width);\n        rubberband.attr('height', height);\n    }\n\n    // Set the figure to an initial 600x600px, this will subsequently be updated\n    // upon first draw.\n    this._resize_canvas(600, 600);\n\n    // Disable right mouse context menu.\n    $(this.rubberband_canvas).bind(\"contextmenu\",function(e){\n        return false;\n    });\n\n    function set_focus () {\n        canvas.focus();\n        canvas_div.focus();\n    }\n\n    window.setTimeout(set_focus, 100);\n}\n\nmpl.figure.prototype._init_toolbar = function() {\n    var fig = this;\n\n    var nav_element = $('<div/>')\n    nav_element.attr('style', 'width: 100%');\n    this.root.append(nav_element);\n\n    // Define a callback function for later on.\n    function toolbar_event(event) {\n        return fig.toolbar_button_onclick(event['data']);\n    }\n    function toolbar_mouse_event(event) {\n        return fig.toolbar_button_onmouseover(event['data']);\n    }\n\n    for(var toolbar_ind in mpl.toolbar_items) {\n        var name = mpl.toolbar_items[toolbar_ind][0];\n        var tooltip = mpl.toolbar_items[toolbar_ind][1];\n        var image = mpl.toolbar_items[toolbar_ind][2];\n        var method_name = mpl.toolbar_items[toolbar_ind][3];\n\n        if (!name) {\n            // put a spacer in here.\n            continue;\n        }\n        var button = $('<button/>');\n        button.addClass('ui-button ui-widget ui-state-default ui-corner-all ' +\n                        'ui-button-icon-only');\n        button.attr('role', 'button');\n        button.attr('aria-disabled', 'false');\n        button.click(method_name, toolbar_event);\n        button.mouseover(tooltip, toolbar_mouse_event);\n\n        var icon_img = $('<span/>');\n        icon_img.addClass('ui-button-icon-primary ui-icon');\n        icon_img.addClass(image);\n        icon_img.addClass('ui-corner-all');\n\n        var tooltip_span = $('<span/>');\n        tooltip_span.addClass('ui-button-text');\n        tooltip_span.html(tooltip);\n\n        button.append(icon_img);\n        button.append(tooltip_span);\n\n        nav_element.append(button);\n    }\n\n    var fmt_picker_span = $('<span/>');\n\n    var fmt_picker = $('<select/>');\n    fmt_picker.addClass('mpl-toolbar-option ui-widget ui-widget-content');\n    fmt_picker_span.append(fmt_picker);\n    nav_element.append(fmt_picker_span);\n    this.format_dropdown = fmt_picker[0];\n\n    for (var ind in mpl.extensions) {\n        var fmt = mpl.extensions[ind];\n        var option = $(\n            '<option/>', {selected: fmt === mpl.default_extension}).html(fmt);\n        fmt_picker.append(option)\n    }\n\n    // Add hover states to the ui-buttons\n    $( \".ui-button\" ).hover(\n        function() { $(this).addClass(\"ui-state-hover\");},\n        function() { $(this).removeClass(\"ui-state-hover\");}\n    );\n\n    var status_bar = $('<span class=\"mpl-message\"/>');\n    nav_element.append(status_bar);\n    this.message = status_bar[0];\n}\n\nmpl.figure.prototype.request_resize = function(x_pixels, y_pixels) {\n    // Request matplotlib to resize the figure. Matplotlib will then trigger a resize in the client,\n    // which will in turn request a refresh of the image.\n    this.send_message('resize', {'width': x_pixels, 'height': y_pixels});\n}\n\nmpl.figure.prototype.send_message = function(type, properties) {\n    properties['type'] = type;\n    properties['figure_id'] = this.id;\n    this.ws.send(JSON.stringify(properties));\n}\n\nmpl.figure.prototype.send_draw_message = function() {\n    if (!this.waiting) {\n        this.waiting = true;\n        this.ws.send(JSON.stringify({type: \"draw\", figure_id: this.id}));\n    }\n}\n\n\nmpl.figure.prototype.handle_save = function(fig, msg) {\n    var format_dropdown = fig.format_dropdown;\n    var format = format_dropdown.options[format_dropdown.selectedIndex].value;\n    fig.ondownload(fig, format);\n}\n\n\nmpl.figure.prototype.handle_resize = function(fig, msg) {\n    var size = msg['size'];\n    if (size[0] != fig.canvas.width || size[1] != fig.canvas.height) {\n        fig._resize_canvas(size[0], size[1]);\n        fig.send_message(\"refresh\", {});\n    };\n}\n\nmpl.figure.prototype.handle_rubberband = function(fig, msg) {\n    var x0 = msg['x0'] / mpl.ratio;\n    var y0 = (fig.canvas.height - msg['y0']) / mpl.ratio;\n    var x1 = msg['x1'] / mpl.ratio;\n    var y1 = (fig.canvas.height - msg['y1']) / mpl.ratio;\n    x0 = Math.floor(x0) + 0.5;\n    y0 = Math.floor(y0) + 0.5;\n    x1 = Math.floor(x1) + 0.5;\n    y1 = Math.floor(y1) + 0.5;\n    var min_x = Math.min(x0, x1);\n    var min_y = Math.min(y0, y1);\n    var width = Math.abs(x1 - x0);\n    var height = Math.abs(y1 - y0);\n\n    fig.rubberband_context.clearRect(\n        0, 0, fig.canvas.width, fig.canvas.height);\n\n    fig.rubberband_context.strokeRect(min_x, min_y, width, height);\n}\n\nmpl.figure.prototype.handle_figure_label = function(fig, msg) {\n    // Updates the figure title.\n    fig.header.textContent = msg['label'];\n}\n\nmpl.figure.prototype.handle_cursor = function(fig, msg) {\n    var cursor = msg['cursor'];\n    switch(cursor)\n    {\n    case 0:\n        cursor = 'pointer';\n        break;\n    case 1:\n        cursor = 'default';\n        break;\n    case 2:\n        cursor = 'crosshair';\n        break;\n    case 3:\n        cursor = 'move';\n        break;\n    }\n    fig.rubberband_canvas.style.cursor = cursor;\n}\n\nmpl.figure.prototype.handle_message = function(fig, msg) {\n    fig.message.textContent = msg['message'];\n}\n\nmpl.figure.prototype.handle_draw = function(fig, msg) {\n    // Request the server to send over a new figure.\n    fig.send_draw_message();\n}\n\nmpl.figure.prototype.handle_image_mode = function(fig, msg) {\n    fig.image_mode = msg['mode'];\n}\n\nmpl.figure.prototype.updated_canvas_event = function() {\n    // Called whenever the canvas gets updated.\n    this.send_message(\"ack\", {});\n}\n\n// A function to construct a web socket function for onmessage handling.\n// Called in the figure constructor.\nmpl.figure.prototype._make_on_message_function = function(fig) {\n    return function socket_on_message(evt) {\n        if (evt.data instanceof Blob) {\n            /* FIXME: We get \"Resource interpreted as Image but\n             * transferred with MIME type text/plain:\" errors on\n             * Chrome.  But how to set the MIME type?  It doesn't seem\n             * to be part of the websocket stream */\n            evt.data.type = \"image/png\";\n\n            /* Free the memory for the previous frames */\n            if (fig.imageObj.src) {\n                (window.URL || window.webkitURL).revokeObjectURL(\n                    fig.imageObj.src);\n            }\n\n            fig.imageObj.src = (window.URL || window.webkitURL).createObjectURL(\n                evt.data);\n            fig.updated_canvas_event();\n            fig.waiting = false;\n            return;\n        }\n        else if (typeof evt.data === 'string' && evt.data.slice(0, 21) == \"data:image/png;base64\") {\n            fig.imageObj.src = evt.data;\n            fig.updated_canvas_event();\n            fig.waiting = false;\n            return;\n        }\n\n        var msg = JSON.parse(evt.data);\n        var msg_type = msg['type'];\n\n        // Call the  \"handle_{type}\" callback, which takes\n        // the figure and JSON message as its only arguments.\n        try {\n            var callback = fig[\"handle_\" + msg_type];\n        } catch (e) {\n            console.log(\"No handler for the '\" + msg_type + \"' message type: \", msg);\n            return;\n        }\n\n        if (callback) {\n            try {\n                // console.log(\"Handling '\" + msg_type + \"' message: \", msg);\n                callback(fig, msg);\n            } catch (e) {\n                console.log(\"Exception inside the 'handler_\" + msg_type + \"' callback:\", e, e.stack, msg);\n            }\n        }\n    };\n}\n\n// from http://stackoverflow.com/questions/1114465/getting-mouse-location-in-canvas\nmpl.findpos = function(e) {\n    //this section is from http://www.quirksmode.org/js/events_properties.html\n    var targ;\n    if (!e)\n        e = window.event;\n    if (e.target)\n        targ = e.target;\n    else if (e.srcElement)\n        targ = e.srcElement;\n    if (targ.nodeType == 3) // defeat Safari bug\n        targ = targ.parentNode;\n\n    // jQuery normalizes the pageX and pageY\n    // pageX,Y are the mouse positions relative to the document\n    // offset() returns the position of the element relative to the document\n    var x = e.pageX - $(targ).offset().left;\n    var y = e.pageY - $(targ).offset().top;\n\n    return {\"x\": x, \"y\": y};\n};\n\n/*\n * return a copy of an object with only non-object keys\n * we need this to avoid circular references\n * http://stackoverflow.com/a/24161582/3208463\n */\nfunction simpleKeys (original) {\n  return Object.keys(original).reduce(function (obj, key) {\n    if (typeof original[key] !== 'object')\n        obj[key] = original[key]\n    return obj;\n  }, {});\n}\n\nmpl.figure.prototype.mouse_event = function(event, name) {\n    var canvas_pos = mpl.findpos(event)\n\n    if (name === 'button_press')\n    {\n        this.canvas.focus();\n        this.canvas_div.focus();\n    }\n\n    var x = canvas_pos.x * mpl.ratio;\n    var y = canvas_pos.y * mpl.ratio;\n\n    this.send_message(name, {x: x, y: y, button: event.button,\n                             step: event.step,\n                             guiEvent: simpleKeys(event)});\n\n    /* This prevents the web browser from automatically changing to\n     * the text insertion cursor when the button is pressed.  We want\n     * to control all of the cursor setting manually through the\n     * 'cursor' event from matplotlib */\n    event.preventDefault();\n    return false;\n}\n\nmpl.figure.prototype._key_event_extra = function(event, name) {\n    // Handle any extra behaviour associated with a key event\n}\n\nmpl.figure.prototype.key_event = function(event, name) {\n\n    // Prevent repeat events\n    if (name == 'key_press')\n    {\n        if (event.which === this._key)\n            return;\n        else\n            this._key = event.which;\n    }\n    if (name == 'key_release')\n        this._key = null;\n\n    var value = '';\n    if (event.ctrlKey && event.which != 17)\n        value += \"ctrl+\";\n    if (event.altKey && event.which != 18)\n        value += \"alt+\";\n    if (event.shiftKey && event.which != 16)\n        value += \"shift+\";\n\n    value += 'k';\n    value += event.which.toString();\n\n    this._key_event_extra(event, name);\n\n    this.send_message(name, {key: value,\n                             guiEvent: simpleKeys(event)});\n    return false;\n}\n\nmpl.figure.prototype.toolbar_button_onclick = function(name) {\n    if (name == 'download') {\n        this.handle_save(this, null);\n    } else {\n        this.send_message(\"toolbar_button\", {name: name});\n    }\n};\n\nmpl.figure.prototype.toolbar_button_onmouseover = function(tooltip) {\n    this.message.textContent = tooltip;\n};\nmpl.toolbar_items = [[\"Home\", \"Reset original view\", \"fa fa-home icon-home\", \"home\"], [\"Back\", \"Back to  previous view\", \"fa fa-arrow-left icon-arrow-left\", \"back\"], [\"Forward\", \"Forward to next view\", \"fa fa-arrow-right icon-arrow-right\", \"forward\"], [\"\", \"\", \"\", \"\"], [\"Pan\", \"Pan axes with left mouse, zoom with right\", \"fa fa-arrows icon-move\", \"pan\"], [\"Zoom\", \"Zoom to rectangle\", \"fa fa-square-o icon-check-empty\", \"zoom\"], [\"\", \"\", \"\", \"\"], [\"Download\", \"Download plot\", \"fa fa-floppy-o icon-save\", \"download\"]];\n\nmpl.extensions = [\"eps\", \"jpeg\", \"pdf\", \"png\", \"ps\", \"raw\", \"svg\", \"tif\"];\n\nmpl.default_extension = \"png\";var comm_websocket_adapter = function(comm) {\n    // Create a \"websocket\"-like object which calls the given IPython comm\n    // object with the appropriate methods. Currently this is a non binary\n    // socket, so there is still some room for performance tuning.\n    var ws = {};\n\n    ws.close = function() {\n        comm.close()\n    };\n    ws.send = function(m) {\n        //console.log('sending', m);\n        comm.send(m);\n    };\n    // Register the callback with on_msg.\n    comm.on_msg(function(msg) {\n        //console.log('receiving', msg['content']['data'], msg);\n        // Pass the mpl event to the overriden (by mpl) onmessage function.\n        ws.onmessage(msg['content']['data'])\n    });\n    return ws;\n}\n\nmpl.mpl_figure_comm = function(comm, msg) {\n    // This is the function which gets called when the mpl process\n    // starts-up an IPython Comm through the \"matplotlib\" channel.\n\n    var id = msg.content.data.id;\n    // Get hold of the div created by the display call when the Comm\n    // socket was opened in Python.\n    var element = $(\"#\" + id);\n    var ws_proxy = comm_websocket_adapter(comm)\n\n    function ondownload(figure, format) {\n        window.open(figure.imageObj.src);\n    }\n\n    var fig = new mpl.figure(id, ws_proxy,\n                           ondownload,\n                           element.get(0));\n\n    // Call onopen now - mpl needs it, as it is assuming we've passed it a real\n    // web socket which is closed, not our websocket->open comm proxy.\n    ws_proxy.onopen();\n\n    fig.parent_element = element.get(0);\n    fig.cell_info = mpl.find_output_cell(\"<div id='\" + id + \"'></div>\");\n    if (!fig.cell_info) {\n        console.error(\"Failed to find cell for figure\", id, fig);\n        return;\n    }\n\n    var output_index = fig.cell_info[2]\n    var cell = fig.cell_info[0];\n\n};\n\nmpl.figure.prototype.handle_close = function(fig, msg) {\n    var width = fig.canvas.width/mpl.ratio\n    fig.root.unbind('remove')\n\n    // Update the output cell to use the data from the current canvas.\n    fig.push_to_output();\n    var dataURL = fig.canvas.toDataURL();\n    // Re-enable the keyboard manager in IPython - without this line, in FF,\n    // the notebook keyboard shortcuts fail.\n    IPython.keyboard_manager.enable()\n    $(fig.parent_element).html('<img src=\"' + dataURL + '\" width=\"' + width + '\">');\n    fig.close_ws(fig, msg);\n}\n\nmpl.figure.prototype.close_ws = function(fig, msg){\n    fig.send_message('closing', msg);\n    // fig.ws.close()\n}\n\nmpl.figure.prototype.push_to_output = function(remove_interactive) {\n    // Turn the data on the canvas into data in the output cell.\n    var width = this.canvas.width/mpl.ratio\n    var dataURL = this.canvas.toDataURL();\n    this.cell_info[1]['text/html'] = '<img src=\"' + dataURL + '\" width=\"' + width + '\">';\n}\n\nmpl.figure.prototype.updated_canvas_event = function() {\n    // Tell IPython that the notebook contents must change.\n    IPython.notebook.set_dirty(true);\n    this.send_message(\"ack\", {});\n    var fig = this;\n    // Wait a second, then push the new image to the DOM so\n    // that it is saved nicely (might be nice to debounce this).\n    setTimeout(function () { fig.push_to_output() }, 1000);\n}\n\nmpl.figure.prototype._init_toolbar = function() {\n    var fig = this;\n\n    var nav_element = $('<div/>')\n    nav_element.attr('style', 'width: 100%');\n    this.root.append(nav_element);\n\n    // Define a callback function for later on.\n    function toolbar_event(event) {\n        return fig.toolbar_button_onclick(event['data']);\n    }\n    function toolbar_mouse_event(event) {\n        return fig.toolbar_button_onmouseover(event['data']);\n    }\n\n    for(var toolbar_ind in mpl.toolbar_items){\n        var name = mpl.toolbar_items[toolbar_ind][0];\n        var tooltip = mpl.toolbar_items[toolbar_ind][1];\n        var image = mpl.toolbar_items[toolbar_ind][2];\n        var method_name = mpl.toolbar_items[toolbar_ind][3];\n\n        if (!name) { continue; };\n\n        var button = $('<button class=\"btn btn-default\" href=\"#\" title=\"' + name + '\"><i class=\"fa ' + image + ' fa-lg\"></i></button>');\n        button.click(method_name, toolbar_event);\n        button.mouseover(tooltip, toolbar_mouse_event);\n        nav_element.append(button);\n    }\n\n    // Add the status bar.\n    var status_bar = $('<span class=\"mpl-message\" style=\"text-align:right; float: right;\"/>');\n    nav_element.append(status_bar);\n    this.message = status_bar[0];\n\n    // Add the close button to the window.\n    var buttongrp = $('<div class=\"btn-group inline pull-right\"></div>');\n    var button = $('<button class=\"btn btn-mini btn-primary\" href=\"#\" title=\"Stop Interaction\"><i class=\"fa fa-power-off icon-remove icon-large\"></i></button>');\n    button.click(function (evt) { fig.handle_close(fig, {}); } );\n    button.mouseover('Stop Interaction', toolbar_mouse_event);\n    buttongrp.append(button);\n    var titlebar = this.root.find($('.ui-dialog-titlebar'));\n    titlebar.prepend(buttongrp);\n}\n\nmpl.figure.prototype._root_extra_style = function(el){\n    var fig = this\n    el.on(\"remove\", function(){\n\tfig.close_ws(fig, {});\n    });\n}\n\nmpl.figure.prototype._canvas_extra_style = function(el){\n    // this is important to make the div 'focusable\n    el.attr('tabindex', 0)\n    // reach out to IPython and tell the keyboard manager to turn it's self\n    // off when our div gets focus\n\n    // location in version 3\n    if (IPython.notebook.keyboard_manager) {\n        IPython.notebook.keyboard_manager.register_events(el);\n    }\n    else {\n        // location in version 2\n        IPython.keyboard_manager.register_events(el);\n    }\n\n}\n\nmpl.figure.prototype._key_event_extra = function(event, name) {\n    var manager = IPython.notebook.keyboard_manager;\n    if (!manager)\n        manager = IPython.keyboard_manager;\n\n    // Check for shift+enter\n    if (event.shiftKey && event.which == 13) {\n        this.canvas_div.blur();\n        // select the cell after this one\n        var index = IPython.notebook.find_cell_index(this.cell_info[0]);\n        IPython.notebook.select(index + 1);\n    }\n}\n\nmpl.figure.prototype.handle_save = function(fig, msg) {\n    fig.ondownload(fig, null);\n}\n\n\nmpl.find_output_cell = function(html_output) {\n    // Return the cell and output element which can be found *uniquely* in the notebook.\n    // Note - this is a bit hacky, but it is done because the \"notebook_saving.Notebook\"\n    // IPython event is triggered only after the cells have been serialised, which for\n    // our purposes (turning an active figure into a static one), is too late.\n    var cells = IPython.notebook.get_cells();\n    var ncells = cells.length;\n    for (var i=0; i<ncells; i++) {\n        var cell = cells[i];\n        if (cell.cell_type === 'code'){\n            for (var j=0; j<cell.output_area.outputs.length; j++) {\n                var data = cell.output_area.outputs[j];\n                if (data.data) {\n                    // IPython >= 3 moved mimebundle to data attribute of output\n                    data = data.data;\n                }\n                if (data['text/html'] == html_output) {\n                    return [cell, data, j];\n                }\n            }\n        }\n    }\n}\n\n// Register the function which deals with the matplotlib target/channel.\n// The kernel may be null if the page has been refreshed.\nif (IPython.notebook.kernel != null) {\n    IPython.notebook.kernel.comm_manager.register_target('matplotlib', mpl.mpl_figure_comm);\n}\n",
      "text/plain": [
       "<IPython.core.display.Javascript object>"
      ]
     },
     "metadata": {},
     "output_type": "display_data"
    },
    {
     "data": {
      "text/html": [
       "<img src=\"data:image/png;base64,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\" width=\"640\">"
      ],
      "text/plain": [
       "<IPython.core.display.HTML object>"
      ]
     },
     "metadata": {},
     "output_type": "display_data"
    }
   ],
   "source": [
    "# PageRank graph.\n",
    "%pylab notebook\n",
    "r = pageRank(generate_internet(100), 0.9)\n",
    "plt.bar(arange(r.shape[0]), r);"
   ]
  },
  {
   "cell_type": "markdown",
   "metadata": {
    "collapsed": true
   },
   "source": [
    "# Author \n",
    "[Helena Pedro](https://www.linkedin.com/in/helena-mbeua-pedro/) is a Data Scientist at Millennium Atlantic Bank in Angola. She is a Creative big thinker passionated about using data and optimization tools to direct decision making and solve complex and large-scale challenges.\n",
    "- **Email:** mbeua94@gmail.com\n",
    "\n",
    "\n",
    "© 2021"
   ]
  }
 ],
 "metadata": {
  "coursera": {
   "course_slug": "linear-algebra-machine-learning",
   "graded_item_id": "Sfbnp",
   "launcher_item_id": "aPxf3"
  },
  "kernelspec": {
   "display_name": "Python 3",
   "language": "python",
   "name": "python3"
  },
  "language_info": {
   "codemirror_mode": {
    "name": "ipython",
    "version": 3
   },
   "file_extension": ".py",
   "mimetype": "text/x-python",
   "name": "python",
   "nbconvert_exporter": "python",
   "pygments_lexer": "ipython3",
   "version": "3.6.2"
  }
 },
 "nbformat": 4,
 "nbformat_minor": 1
}
